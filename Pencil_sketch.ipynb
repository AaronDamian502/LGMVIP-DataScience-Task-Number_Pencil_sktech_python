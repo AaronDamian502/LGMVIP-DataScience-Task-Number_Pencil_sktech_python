{
 "cells": [
  {
   "cell_type": "code",
   "execution_count": 2,
   "id": "8c4f3611-4af5-48f3-8e6d-f9e057d0de2b",
   "metadata": {},
   "outputs": [],
   "source": [
    "import cv2"
   ]
  },
  {
   "cell_type": "code",
   "execution_count": 7,
   "id": "a520edc9-6d00-4691-9140-a59e044cf790",
   "metadata": {},
   "outputs": [
    {
     "data": {
      "text/plain": [
       "True"
      ]
     },
     "execution_count": 7,
     "metadata": {},
     "output_type": "execute_result"
    }
   ],
   "source": [
    "image = cv2.imread(\"friends.png\")\n",
    "grey_img = cv2.cvtColor(image, cv2.COLOR_BGR2GRAY)\n",
    "invert = cv2.bitwise_not(grey_img)\n",
    "blur = cv2.GaussianBlur(invert,(21,21),0)\n",
    "invertedblur = cv2.bitwise_not(blur)\n",
    "sketch = cv2.divide(grey_img, invertedblur, scale=256.0)\n",
    "cv2.imwrite(\"friends_sketch.png\", sketch)"
   ]
  }
 ],
 "metadata": {
  "kernelspec": {
   "display_name": "Python 3 (ipykernel)",
   "language": "python",
   "name": "python3"
  },
  "language_info": {
   "codemirror_mode": {
    "name": "ipython",
    "version": 3
   },
   "file_extension": ".py",
   "mimetype": "text/x-python",
   "name": "python",
   "nbconvert_exporter": "python",
   "pygments_lexer": "ipython3",
   "version": "3.12.1"
  }
 },
 "nbformat": 4,
 "nbformat_minor": 5
}
